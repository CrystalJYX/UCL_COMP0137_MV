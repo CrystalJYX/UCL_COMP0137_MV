{
 "cells": [
  {
   "cell_type": "markdown",
   "metadata": {},
   "source": [
    "# practicalMixGaussB\n",
    "\n",
    "The goal of this part of the lab is to fit a mixture of gaussians model to some one-dimensional data. To do this, we will first generate some data from a known mixture of gaussians model and fit our own mixture of gaussians model to the generated data. The parameters from our estimated mixture of gaussians model should roughly match those of the original known model. \n",
    "\n",
    "You should use this template for your code and fill in the missing \n",
    "sections marked \"TO DO.\"\n",
    "\n",
    "PLEASE NOTE (again): You should NOT be using functions like multivariate_normal.pdf and normfit or any other numpy functions for fitting your distributions in this or further parts of this practical. Optionally, you can try comparing your results to those produced by those functions, but our goal here is to learn what is happening!"
   ]
  },
  {
   "cell_type": "code",
   "execution_count": 1,
   "metadata": {},
   "outputs": [],
   "source": [
    "import os \n",
    "import numpy as np\n",
    "import matplotlib.pyplot as plt\n",
    "import scipy.io as spio\n",
    "from scipy.stats import norm \n",
    "import time\n",
    "\n",
    "%matplotlib inline"
   ]
  },
  {
   "cell_type": "markdown",
   "metadata": {},
   "source": [
    "## Construct Ground Truth Mixture of Gaussians Model and Plot Some Points\n",
    "\n",
    "Define some true parameters for our grounf truth mixture of $k$ Gaussians model. We will represent the mixtures of Gaussians as a python dictionary. Not that we are working in one dimension, but if we were to require $d$ dimenisions, the mean field would be a $d \\times k$ matrix and the cov field would be a $d \\times d \\times k$ matrix. "
   ]
  },
  {
   "cell_type": "code",
   "execution_count": 2,
   "metadata": {},
   "outputs": [],
   "source": [
    "mixGaussTrue = dict()\n",
    "mixGaussTrue['k'] = 2 # number of gaussians\n",
    "mixGaussTrue['d'] = 1 # dimension of the data\n",
    "mixGaussTrue['weight'] = np.array([0.3, 0.7]) # weight assigned to each gaussian\n",
    "mixGaussTrue['mean'] = np.array([[-1,1.5]]) # the mean for each gaussian \n",
    "mixGaussTrue['cov'] = np.reshape([0.5, 0.25], newshape=(1,1,2)) # the covariance for each gaussian"
   ]
  },
  {
   "cell_type": "markdown",
   "metadata": {},
   "source": [
    "\n",
    "\n"
   ]
  },
  {
   "cell_type": "markdown",
   "metadata": {},
   "source": [
    "**getGaussProb**, **sampleFromDiscrete**, and **drawEMData1d** are helper functions. "
   ]
  },
  {
   "cell_type": "code",
   "execution_count": 3,
   "metadata": {},
   "outputs": [],
   "source": [
    "# subroutine to return gaussian probabilities\n",
    "def getGaussProb(x,mean,var):   \n",
    "    \"\"\"\n",
    "    Returns the likelihood that each data point in x belongs to the Gaussian described by mean and \n",
    "    var.\n",
    "    \n",
    "    Keyword arguments:\n",
    "    x -- 1 by n vector of data points. n is the number of data points.\n",
    "    mean -- scalar containing the mean parameter of the Gaussian distribution.\n",
    "    var -- scalar containing the variance parameter of the Gaussian distribution.\n",
    "    \n",
    "    Returns: \n",
    "    prob -- scalar contianing the likelihood that each data point in data belongs to the Gaussian \n",
    "    distribution defined by mean and var.\n",
    "    \"\"\"\n",
    "    mean = np.squeeze(mean)                                        \n",
    "    var = np.squeeze(var)                                          \n",
    "    prob = np.exp(-0.5*((x-mean)**2)/(var))                        \n",
    "    prob = prob/ np.sqrt(2*np.pi*var)                              \n",
    "    return prob                                                    "
   ]
  },
  {
   "cell_type": "code",
   "execution_count": 4,
   "metadata": {
    "scrolled": true
   },
   "outputs": [],
   "source": [
    "def sampleFromDiscrete(probDist): \n",
    "    \"\"\"\n",
    "    Draws a random sample from a discrete probability distribution using a rejection sampling method.  \n",
    "    \n",
    "    Keyword arguments:\n",
    "    probDist -- discrete probability ditrubtion to sample from.\n",
    "    \n",
    "    Returns: \n",
    "    r -- sampled point.\n",
    "    \"\"\"\n",
    "\n",
    "    nIndex = len(probDist)                                                                 \n",
    "    while True:                                                                            \n",
    "        #choose random index                                                               \n",
    "        r=int(np.floor(np.random.uniform()*nIndex))                                        \n",
    "        #choose random height                                                              \n",
    "        randHeight = np.random.uniform()                                                   \n",
    "        #if height is less than probability value at this point in the                     \n",
    "        # histogram then select                                                            \n",
    "        if randHeight<probDist[r]:                                                         \n",
    "            break                                                                          \n",
    "    return r                                                                               "
   ]
  },
  {
   "cell_type": "code",
   "execution_count": 5,
   "metadata": {},
   "outputs": [],
   "source": [
    "def drawEMData1d(data, mixGauss):\n",
    "    \"\"\"\n",
    "    Draw the data, data, in histogram form and plot the mixtures of Gaussian model, mixGauss, on top of it.\n",
    "    \n",
    "    Keyword arguments:\n",
    "    data -- 1 by n vector of data points.\n",
    "    mixGauss -- dict with mixture of gaussian information.\n",
    "\n",
    "    \"\"\"\n",
    "    # delete previous plot if it exists                                                                   \n",
    "    # hold off;                                                                                           \n",
    "    # bin the data to make a histogram                                                                    \n",
    "                                                                                                          \n",
    "    binWidth = 0.1;                                                                                       \n",
    "    binMin = -4.0;                                                                                        \n",
    "    binMax = 4.0;                                                                                         \n",
    "    nSteps = int(np.ceil((binMax - binMin) / binWidth))                                                   \n",
    "                                                                                                          \n",
    "    nDims, nData = data.shape                                                                             \n",
    "                                                                                                          \n",
    "    xHist = np.linspace(binMin, binMax, nSteps, endpoint=True)                                            \n",
    "    xHistExt = np.append(xHist, np.inf)                                                                   \n",
    "    yHist, _ = np.histogram(data, xHistExt)                                     \n",
    "                                                                                                          \n",
    "    yHist = yHist / (nData * binWidth)                                                                    \n",
    "    plt.cla()                                                                                     \n",
    "    plt.bar(xHist, yHist, binWidth, edgecolor='b')                                                        \n",
    "                                                                                                          \n",
    "    # calculate Gaussian data                                                                             \n",
    "    nGauss = mixGauss['k']                                                                                \n",
    "    gaussEnvEst = np.zeros(xHist.shape)                                                                   \n",
    "    for cGauss in range(nGauss):                                                                          \n",
    "        # calculate weighted Gaussian values                                                              \n",
    "        gaussProb = mixGauss['weight'][cGauss] * getGaussProb(xHist, mixGauss['mean'][:,cGauss],          \n",
    "                                                              mixGauss['cov'][:, :, cGauss])              \n",
    "        plt.plot(xHist, gaussProb, 'm-')  # weighted components of MoG                                    \n",
    "        # add to form envelope                                                                            \n",
    "        gaussEnvEst = gaussEnvEst + gaussProb                                                             \n",
    "                                                                                                          \n",
    "    plt.plot(xHist, gaussEnvEst, 'g-')  # final mixture of Gaussians                                      \n",
    "                                                                                                          \n",
    "    # tidy up plot                                                                                        \n",
    "    plt.xlabel('Data Value')                                                                              \n",
    "    plt.ylabel('Probability Density')                                                                     \n",
    "    # set(gca,'Box','Off');                                                                               \n",
    "    # set(gcf,'Color',[1 1 1]);                                                                           \n",
    "    plt.xlim((binMin, binMax))                                                                            \n",
    "    plt.ylim((0, max(yHist) * 1.5))                                                                       \n",
    "                                                                                                          \n",
    "    return                                                                                                \n",
    "    "
   ]
  },
  {
   "cell_type": "markdown",
   "metadata": {},
   "source": [
    "**TODO D HERE:**\n",
    "\n",
    "Complete the TO DO in this function before moving on. \n",
    "\n"
   ]
  },
  {
   "cell_type": "code",
   "execution_count": 6,
   "metadata": {},
   "outputs": [],
   "source": [
    "def mixGaussGen1d(mixGauss, nData):  \n",
    "    \"\"\"\n",
    "    Generates data from a one-dimensional mixture of Gaussians model. \n",
    "    \n",
    "    Keyword arguments:\n",
    "    mixGauss -- dict containing the mixture of gaussians arguments.\n",
    "    nData -- number of data points to generate.\n",
    "    \n",
    "    Returns: \n",
    "    data -- 1 by nData, generated data points. \n",
    "    \"\"\"\n",
    "    \n",
    "    # create space for output data                                                                               \n",
    "    data = np.zeros(shape=(1, nData))                                                                            \n",
    "    # for each data point                                                                                        \n",
    "    for cData in range(nData):                                                                                   \n",
    "        # randomly choose Gaussian according to probability distributions                                        \n",
    "        h = sampleFromDiscrete(mixGauss['weight'])                                                               \n",
    "        # draw a sample from the appropriate Gaussian distribution                                               \n",
    "        \n",
    "        # TO DO (d)- replace this \n",
    "        data[:, cData] = np.random.normal(mixGauss['mean'][:,h], np.sqrt(mixGauss['cov'][:,:,h]))\n",
    "                                                                                                        \n",
    "    return data                                                                                                  "
   ]
  },
  {
   "cell_type": "markdown",
   "metadata": {},
   "source": [
    "With all the helper functions complete, we can now generate and plot some points from our model. The blue bars are the histogram of the generated points. The green curve is what the complete mixture of gaussians model looks like. The pink curves are the component gaussians. "
   ]
  },
  {
   "cell_type": "code",
   "execution_count": 7,
   "metadata": {},
   "outputs": [
    {
     "data": {
      "image/png": "[encoded data removed]",
      "text/plain": [
       "<Figure size 432x288 with 1 Axes>"
      ]
     },
     "metadata": {
      "needs_background": "light"
     },
     "output_type": "display_data"
    }
   ],
   "source": [
    "# define number of samples to generate\n",
    "nData = 400;\n",
    "\n",
    "#generate data from the mixture of Gaussians\n",
    "#make sure you've filled out the todo above! \n",
    "data = mixGaussGen1d(mixGaussTrue,nData)\n",
    "\n",
    "#plot! \n",
    "fig,ax = plt.subplots(1,1)\n",
    "drawEMData1d(data,mixGaussTrue)"
   ]
  },
  {
   "cell_type": "markdown",
   "metadata": {},
   "source": [
    "## Estimate MoG using the E-M Algorithm\n",
    "Here we want to use the E-M algorithm to fit a MoG model to our data points. \n",
    "\n",
    "**TODO E HERE:** \n",
    "\n",
    "Fill out the missing parts below. "
   ]
  },
  {
   "cell_type": "code",
   "execution_count": 8,
   "metadata": {},
   "outputs": [],
   "source": [
    "def getMixGaussBound(data, mixGaussEst, responsibilities):                                                  \n",
    "    \"\"\"\n",
    "    Calculate the bound on the log likelihood for the whole data set under a mixture of Gaussians model.  \n",
    "    \n",
    "    Keyword arguments:\n",
    "    data -- d by n matrix containing data points.\n",
    "    mixGaussEst -- dict containing the mixture of gaussians parameters.\n",
    "    responsibilities -- k by n vector containing the responsibility of this data point for each Gaussian. \n",
    "    \n",
    "    Returns: \n",
    "    bound -- scalar containing the bound on the log likelihood.\n",
    "    \n",
    "    \"\"\"\n",
    "    # find total number of data items                                                                       \n",
    "    nDims, nData = data.shape                                                                               \n",
    "                                                                                                            \n",
    "    # initialize bound                                                                                      \n",
    "    bound = 0                                                                                               \n",
    "    \n",
    "        \n",
    "    # run through each data item                                                                            \n",
    "    for cData in range(nData):                                                                              \n",
    "        # extract this data                                                                                 \n",
    "        thisData = data[:, cData]                                                                           \n",
    "        # extract this q(h)                                                                                 \n",
    "        thisQ = responsibilities[:, cData]                                                                  \n",
    "                                                                                                            \n",
    "        # TO DO (e) - calculate contribution to bound of this datapoint                                         \n",
    "        # Replace this                                                                                      \n",
    "        boundValue = 0\n",
    "        for i in range(mixGaussEst['k']):\n",
    "            # boundValue = sum(q_i(h_i)*log(Pr(x,h_i|theta)/q_(h_i)))\n",
    "            boundValue += thisQ[i]* np.log(mixGaussEst['weight'][i]*getGaussProb(thisData,mixGaussEst['mean'][:, i],mixGaussEst['cov'][:,:,i])/thisQ[i])\n",
    "            \n",
    "        # add to total log like                                                                             \n",
    "        bound = bound + boundValue                                                                          \n",
    "                                                                                                            \n",
    "    return np.asscalar(np.array(bound))                                                                          "
   ]
  },
  {
   "cell_type": "markdown",
   "metadata": {},
   "source": [
    "**TODO F HERE:** \n",
    "\n",
    "Fill out the missing parts below. \n",
    "\n",
    "The log likelihood is taken since the raw likelihood value could be too small for our machine's percision. "
   ]
  },
  {
   "cell_type": "code",
   "execution_count": 10,
   "metadata": {},
   "outputs": [],
   "source": [
    "def getMixGaussLogLike(data, mixGaussEst):\n",
    "    \"\"\"\n",
    "    Calculate the log likelihood for the whole dataset under a mixture of Gaussians model.\n",
    "    \n",
    "    Keyword arguments:\n",
    "    data -- d by n matrix containing data points.\n",
    "    mixGaussEst -- dict containing the mixture of gaussians parameters.\n",
    "\n",
    "    Returns: \n",
    "    logLike -- scalar containing the log likelihood.\n",
    "    \n",
    "    \"\"\"\n",
    "    data = np.atleast_2d(data)                                                                         \n",
    "    # find total number of data items                                                                  \n",
    "    nDims, nData = data.shape                                                                          \n",
    "    \n",
    "    # initialize log likelihoods                                                                       \n",
    "    logLike = 0;                                                                                       \n",
    "                                                                                                       \n",
    "    # run through each data item                                                                       \n",
    "    for cData in range(nData):                                                                         \n",
    "        thisData = data[:, cData]    \n",
    "        \n",
    "        # TO DO (f) - calculate likelihood of this data point under mixture of                         \n",
    "        # Gaussians model. Replace this                                                                \n",
    "        like = 0\n",
    "        for i in range(mixGaussEst['k']):\n",
    "            # like = sum(Pr(x,h_i|theta))\n",
    "            like += mixGaussEst['weight'][i]*getGaussProb(thisData, mixGaussEst['mean'][:,i], mixGaussEst['cov'][:,:,i])\n",
    "                      \n",
    "             \n",
    "        # add to total log like                                                                        \n",
    "        logLike = logLike + np.log(like)                                                               \n",
    "                                                                                                       \n",
    "    return  np.asscalar(np.array(logLike))                                                                       \n",
    "                                                                                                       "
   ]
  },
  {
   "cell_type": "markdown",
   "metadata": {},
   "source": [
    "**TODO G HERE:** \n",
    "\n",
    "Fill out the missing parts below. "
   ]
  },
  {
   "cell_type": "code",
   "execution_count": 11,
   "metadata": {},
   "outputs": [],
   "source": [
    "def fitMixGauss1d(data, k):   \n",
    "    \"\"\"\n",
    "    Estimate a k MoG model that would fit the data. Incremently plots the outcome.\n",
    "               \n",
    "    \n",
    "    Keyword arguments:\n",
    "    data -- d by n matrix containing data points.\n",
    "    k -- scalar representing the number of gaussians to use in the MoG model.\n",
    "    \n",
    "    Returns: \n",
    "    mixGaussEst -- dict containing the estimated MoG parameters.\n",
    "    \n",
    "    \"\"\"\n",
    "    #     MAIN E-M ROUTINE  \n",
    "    #     In the E-M algorithm, we calculate a complete posterior distribution over                                  \n",
    "    #     the (nData) hidden variables in the E-Step.  \n",
    "    #     In the M-Step, we update the parameters of the Gaussians (mean, cov, w).   \n",
    "    \n",
    "    nDims, nData = data.shape                                                                                        \n",
    "                                                                                                                     \n",
    "                                                                                                      \n",
    "    responsibilities = np.zeros(shape=(k, nData))                                                                    \n",
    "                                                                                                                     \n",
    "    # we will initialize the values to random values                                                                 \n",
    "    mixGaussEst = dict()                                                                                             \n",
    "    mixGaussEst['d'] = 1                                                                                             \n",
    "    mixGaussEst['k'] = k                                                                                             \n",
    "    mixGaussEst['weight'] = (1 / k) * np.ones(shape=(k))                                                             \n",
    "    mixGaussEst['mean'] = 2 * np.random.randn(1, k)                                                                  \n",
    "    mixGaussEst['cov'] = 0.1 + 1.5*np.random.uniform(size=(1,1,2))                                                   \n",
    "                                                                                                                     \n",
    "    # calculate current likelihood                                                                                   \n",
    "    # TO DO (g) starts here- fill in this routine                                                                                   \n",
    "    logLike = getMixGaussLogLike(data, mixGaussEst)                                                                  \n",
    "    print('Log Likelihood Iter 0 : {:4.3f}\\n'.format(logLike))                                                       \n",
    "                                                                                                                     \n",
    "    nIter = 20;                                                                                                      \n",
    "                                                                                                                     \n",
    "    logLikeVec = np.zeros(shape=(2 * nIter))                                                                         \n",
    "    boundVec = np.zeros(shape=(2 * nIter)) \n",
    "    \n",
    "    fig,ax = plt.subplots(1,1)\n",
    "                                                                                                                     \n",
    "    for cIter in range(nIter):                                                                                       \n",
    "                                                                                                                     \n",
    "        # ===================== =====================                                                                \n",
    "        # Expectation step                                                                                           \n",
    "        # ===================== =====================                                                                \n",
    "        curCov = mixGaussEst['cov']                                                                                  \n",
    "        curWeight = mixGaussEst['weight']                                                                            \n",
    "        curMean = mixGaussEst['mean']                                                                                \n",
    "        for cData in range(nData):           \n",
    "            thisData = data[:, cData] \n",
    "            like = np.zeros(mixGaussEst['k'])\n",
    "            \n",
    "            for i in range(mixGaussEst['k']):\n",
    "                like[i] = curWeight[i] * getGaussProb(thisData,curMean[:,i],curCov[:,:,i])\n",
    "                # lamda_k * Norm_xi(mu_k,cov_k)\n",
    "                \n",
    "            # TO DO: fill in column of 'hidden' - caculate posterior probability that                                \n",
    "            # this data point came from each of the Gaussians                                                        \n",
    "            # replace this:                                                                                          \n",
    "            responsibilities[:, cData] = (like/np.sum(like)).reshape(mixGaussEst['k'],) \n",
    "            # r_ik = like/ sum_k(like)\n",
    "\n",
    "        # calculate the log likelihood                                                                               \n",
    "        logLike = getMixGaussLogLike(data, mixGaussEst)                                                              \n",
    "        print('Log Likelihood After E-Step Iter {} : {:4.3f}\\n'.format(cIter, logLike))                              \n",
    "                                                                                                                     \n",
    "        # calculate the bound                                                                                        \n",
    "        # TO DO - Fill in this routine                                                                               \n",
    "        bound = getMixGaussBound(data, mixGaussEst, responsibilities)                                                \n",
    "        print('Bound After E-Step Iter {} : {:4.3f}\\n'.format(cIter, bound))     \n",
    "        \n",
    "        logLikeVec[2 * cIter] = logLike                                                                              \n",
    "        boundVec[2 * cIter] = bound                                                                                  \n",
    "        # ===================== =====================                                                                \n",
    "        # Maximization Step                                                                                          \n",
    "        # ===================== =====================                                                                \n",
    "        # for each constituent Gaussian                                                                              \n",
    "        for cGauss in range(k):                                                                                      \n",
    "            # TO DO:  Update weighting parameters mixGauss.weight based on the total                                 \n",
    "            # posterior probability associated with each Gaussian. Replace this:                                         \n",
    "            mixGaussEst['weight'][cGauss] = np.sum(responsibilities[cGauss, :])/np.sum(responsibilities)\n",
    "            # lamda_k = sum_i(r_ik)/sum(r_ij)\n",
    "                                                                                                                 \n",
    "            # TO DO:  Update mean parameters mixGauss.mean by weighted average                                       \n",
    "            # where weights are given by posterior probability associated with                                       \n",
    "            # Gaussian.  Replace this:                                    \n",
    "            mixGaussEst['mean'][:,cGauss] = np.sum(responsibilities[cGauss, :] * data)/np.sum(responsibilities[cGauss, :])\n",
    "            # mu_k = sum_i(r_ik*x_i)/sum_i(r_ik)\n",
    "            \n",
    "            # TO DO:  Update covarance parameter based on weighted average of                                        \n",
    "            # square distance from update mean, where weights are given by                                           \n",
    "            # posterior probability associated with Gaussian  \n",
    "            diff = data - mixGaussEst['mean'][:, cGauss] # diff = X_i - mu_k\n",
    "            mixGaussEst['cov'][:,:,cGauss] = np.sum(responsibilities[cGauss, :] * diff**2) / np.sum(responsibilities[cGauss, :])\n",
    "            # cov_k = sum_i(rik*diff*diff.T)/sum_i(r_ik)\n",
    "            \n",
    "                                                                                                                     \n",
    "        # draw the new solution  \n",
    "        drawEMData1d(data, mixGaussEst)\n",
    "        time.sleep(0.7)\n",
    "        fig.canvas.draw()\n",
    "                                                                                                                     \n",
    "        # calculate the log likelihood                                                                               \n",
    "        logLike = getMixGaussLogLike(data, mixGaussEst)                                                              \n",
    "        print('Log Likelihood After M-Step Iter {} : {:4.3f}\\n'.format(cIter, logLike))                              \n",
    "                                                                                                                     \n",
    "        # calculate the bound                                                                                        \n",
    "        bound = getMixGaussBound(data, mixGaussEst, responsibilities)                                                \n",
    "        print('Bound After M-Step Iter {} : {:4.3f}\\n'.format(cIter, bound)) \n",
    "                                                                                                                  \n",
    "        logLikeVec[2 * cIter + 1] = logLike                                                                          \n",
    "        boundVec[2 * cIter + 1] = bound                                                                              \n",
    "                                                                                                                     \n",
    "    plt.figure()                                                                                                     \n",
    "    plt.plot(logLikeVec, 'g',label='log likelihood')                                                                                        \n",
    "    plt.plot(boundVec, 'r',label='lower bound')  \n",
    "    plt.legend()\n",
    "                                                                                                                     \n",
    "    return mixGaussEst                                                                                               "
   ]
  },
  {
   "cell_type": "markdown",
   "metadata": {},
   "source": [
    "### Time to put it all together!\n",
    "\n",
    "Make sure you've filled all the TO DOs above! "
   ]
  },
  {
   "cell_type": "code",
   "execution_count": 12,
   "metadata": {},
   "outputs": [
    {
     "name": "stderr",
     "output_type": "stream",
     "text": [
      "/var/folders/l2/gqnx870j10s9yq3h98czyx8h0000gn/T/ipykernel_25999/2394251062.py:35: DeprecationWarning: np.asscalar(a) is deprecated since NumPy v1.16, use a.item() instead\n",
      "  return  np.asscalar(np.array(logLike))\n",
      "/var/folders/l2/gqnx870j10s9yq3h98czyx8h0000gn/T/ipykernel_25999/3985183117.py:38: DeprecationWarning: np.asscalar(a) is deprecated since NumPy v1.16, use a.item() instead\n",
      "  return np.asscalar(np.array(bound))\n"
     ]
    },
    {
     "name": "stdout",
     "output_type": "stream",
     "text": [
      "Log Likelihood Iter 0 : -746.912\n",
      "\n",
      "Log Likelihood After E-Step Iter 0 : -746.912\n",
      "\n",
      "Bound After E-Step Iter 0 : -746.912\n",
      "\n"
     ]
    },
    {
     "name": "stderr",
     "output_type": "stream",
     "text": [
      "/var/folders/l2/gqnx870j10s9yq3h98czyx8h0000gn/T/ipykernel_25999/2394251062.py:35: DeprecationWarning: np.asscalar(a) is deprecated since NumPy v1.16, use a.item() instead\n",
      "  return  np.asscalar(np.array(logLike))\n",
      "/var/folders/l2/gqnx870j10s9yq3h98czyx8h0000gn/T/ipykernel_25999/3985183117.py:38: DeprecationWarning: np.asscalar(a) is deprecated since NumPy v1.16, use a.item() instead\n",
      "  return np.asscalar(np.array(bound))\n"
     ]
    },
    {
     "name": "stdout",
     "output_type": "stream",
     "text": [
      "Log Likelihood After M-Step Iter 0 : -662.224\n",
      "\n",
      "Bound After M-Step Iter 0 : -665.845\n",
      "\n",
      "Log Likelihood After E-Step Iter 1 : -662.224\n",
      "\n",
      "Bound After E-Step Iter 1 : -662.224\n",
      "\n"
     ]
    },
    {
     "name": "stderr",
     "output_type": "stream",
     "text": [
      "/var/folders/l2/gqnx870j10s9yq3h98czyx8h0000gn/T/ipykernel_25999/2394251062.py:35: DeprecationWarning: np.asscalar(a) is deprecated since NumPy v1.16, use a.item() instead\n",
      "  return  np.asscalar(np.array(logLike))\n",
      "/var/folders/l2/gqnx870j10s9yq3h98czyx8h0000gn/T/ipykernel_25999/3985183117.py:38: DeprecationWarning: np.asscalar(a) is deprecated since NumPy v1.16, use a.item() instead\n",
      "  return np.asscalar(np.array(bound))\n"
     ]
    },
    {
     "name": "stdout",
     "output_type": "stream",
     "text": [
      "Log Likelihood After M-Step Iter 1 : -657.481\n",
      "\n",
      "Bound After M-Step Iter 1 : -659.933\n",
      "\n",
      "Log Likelihood After E-Step Iter 2 : -657.481\n",
      "\n",
      "Bound After E-Step Iter 2 : -657.481\n",
      "\n"
     ]
    },
    {
     "name": "stderr",
     "output_type": "stream",
     "text": [
      "/var/folders/l2/gqnx870j10s9yq3h98czyx8h0000gn/T/ipykernel_25999/2394251062.py:35: DeprecationWarning: np.asscalar(a) is deprecated since NumPy v1.16, use a.item() instead\n",
      "  return  np.asscalar(np.array(logLike))\n",
      "/var/folders/l2/gqnx870j10s9yq3h98czyx8h0000gn/T/ipykernel_25999/3985183117.py:38: DeprecationWarning: np.asscalar(a) is deprecated since NumPy v1.16, use a.item() instead\n",
      "  return np.asscalar(np.array(bound))\n"
     ]
    },
    {
     "name": "stdout",
     "output_type": "stream",
     "text": [
      "Log Likelihood After M-Step Iter 2 : -649.114\n",
      "\n",
      "Bound After M-Step Iter 2 : -653.940\n",
      "\n",
      "Log Likelihood After E-Step Iter 3 : -649.114\n",
      "\n",
      "Bound After E-Step Iter 3 : -649.114\n",
      "\n"
     ]
    },
    {
     "name": "stderr",
     "output_type": "stream",
     "text": [
      "/var/folders/l2/gqnx870j10s9yq3h98czyx8h0000gn/T/ipykernel_25999/2394251062.py:35: DeprecationWarning: np.asscalar(a) is deprecated since NumPy v1.16, use a.item() instead\n",
      "  return  np.asscalar(np.array(logLike))\n",
      "/var/folders/l2/gqnx870j10s9yq3h98czyx8h0000gn/T/ipykernel_25999/3985183117.py:38: DeprecationWarning: np.asscalar(a) is deprecated since NumPy v1.16, use a.item() instead\n",
      "  return np.asscalar(np.array(bound))\n"
     ]
    },
    {
     "name": "stdout",
     "output_type": "stream",
     "text": [
      "Log Likelihood After M-Step Iter 3 : -631.146\n",
      "\n",
      "Bound After M-Step Iter 3 : -641.285\n",
      "\n",
      "Log Likelihood After E-Step Iter 4 : -631.146\n",
      "\n",
      "Bound After E-Step Iter 4 : -631.146\n",
      "\n"
     ]
    },
    {
     "name": "stderr",
     "output_type": "stream",
     "text": [
      "/var/folders/l2/gqnx870j10s9yq3h98czyx8h0000gn/T/ipykernel_25999/2394251062.py:35: DeprecationWarning: np.asscalar(a) is deprecated since NumPy v1.16, use a.item() instead\n",
      "  return  np.asscalar(np.array(logLike))\n",
      "/var/folders/l2/gqnx870j10s9yq3h98czyx8h0000gn/T/ipykernel_25999/3985183117.py:38: DeprecationWarning: np.asscalar(a) is deprecated since NumPy v1.16, use a.item() instead\n",
      "  return np.asscalar(np.array(bound))\n"
     ]
    },
    {
     "name": "stdout",
     "output_type": "stream",
     "text": [
      "Log Likelihood After M-Step Iter 4 : -598.250\n",
      "\n",
      "Bound After M-Step Iter 4 : -614.490\n",
      "\n",
      "Log Likelihood After E-Step Iter 5 : -598.250\n",
      "\n",
      "Bound After E-Step Iter 5 : -598.250\n",
      "\n"
     ]
    },
    {
     "name": "stderr",
     "output_type": "stream",
     "text": [
      "/var/folders/l2/gqnx870j10s9yq3h98czyx8h0000gn/T/ipykernel_25999/2394251062.py:35: DeprecationWarning: np.asscalar(a) is deprecated since NumPy v1.16, use a.item() instead\n",
      "  return  np.asscalar(np.array(logLike))\n",
      "/var/folders/l2/gqnx870j10s9yq3h98czyx8h0000gn/T/ipykernel_25999/3985183117.py:38: DeprecationWarning: np.asscalar(a) is deprecated since NumPy v1.16, use a.item() instead\n",
      "  return np.asscalar(np.array(bound))\n"
     ]
    },
    {
     "name": "stdout",
     "output_type": "stream",
     "text": [
      "Log Likelihood After M-Step Iter 5 : -569.348\n",
      "\n",
      "Bound After M-Step Iter 5 : -579.583\n",
      "\n",
      "Log Likelihood After E-Step Iter 6 : -569.348\n",
      "\n",
      "Bound After E-Step Iter 6 : -569.348\n",
      "\n"
     ]
    },
    {
     "name": "stderr",
     "output_type": "stream",
     "text": [
      "/var/folders/l2/gqnx870j10s9yq3h98czyx8h0000gn/T/ipykernel_25999/2394251062.py:35: DeprecationWarning: np.asscalar(a) is deprecated since NumPy v1.16, use a.item() instead\n",
      "  return  np.asscalar(np.array(logLike))\n",
      "/var/folders/l2/gqnx870j10s9yq3h98czyx8h0000gn/T/ipykernel_25999/3985183117.py:38: DeprecationWarning: np.asscalar(a) is deprecated since NumPy v1.16, use a.item() instead\n",
      "  return np.asscalar(np.array(bound))\n"
     ]
    },
    {
     "name": "stdout",
     "output_type": "stream",
     "text": [
      "Log Likelihood After M-Step Iter 6 : -559.777\n",
      "\n",
      "Bound After M-Step Iter 6 : -562.888\n",
      "\n",
      "Log Likelihood After E-Step Iter 7 : -559.777\n",
      "\n",
      "Bound After E-Step Iter 7 : -559.777\n",
      "\n"
     ]
    },
    {
     "name": "stderr",
     "output_type": "stream",
     "text": [
      "/var/folders/l2/gqnx870j10s9yq3h98czyx8h0000gn/T/ipykernel_25999/2394251062.py:35: DeprecationWarning: np.asscalar(a) is deprecated since NumPy v1.16, use a.item() instead\n",
      "  return  np.asscalar(np.array(logLike))\n",
      "/var/folders/l2/gqnx870j10s9yq3h98czyx8h0000gn/T/ipykernel_25999/3985183117.py:38: DeprecationWarning: np.asscalar(a) is deprecated since NumPy v1.16, use a.item() instead\n",
      "  return np.asscalar(np.array(bound))\n"
     ]
    },
    {
     "name": "stdout",
     "output_type": "stream",
     "text": [
      "Log Likelihood After M-Step Iter 7 : -556.513\n",
      "\n",
      "Bound After M-Step Iter 7 : -557.811\n",
      "\n",
      "Log Likelihood After E-Step Iter 8 : -556.513\n",
      "\n",
      "Bound After E-Step Iter 8 : -556.513\n",
      "\n"
     ]
    },
    {
     "name": "stderr",
     "output_type": "stream",
     "text": [
      "/var/folders/l2/gqnx870j10s9yq3h98czyx8h0000gn/T/ipykernel_25999/2394251062.py:35: DeprecationWarning: np.asscalar(a) is deprecated since NumPy v1.16, use a.item() instead\n",
      "  return  np.asscalar(np.array(logLike))\n",
      "/var/folders/l2/gqnx870j10s9yq3h98czyx8h0000gn/T/ipykernel_25999/3985183117.py:38: DeprecationWarning: np.asscalar(a) is deprecated since NumPy v1.16, use a.item() instead\n",
      "  return np.asscalar(np.array(bound))\n"
     ]
    },
    {
     "name": "stdout",
     "output_type": "stream",
     "text": [
      "Log Likelihood After M-Step Iter 8 : -554.361\n",
      "\n",
      "Bound After M-Step Iter 8 : -555.363\n",
      "\n",
      "Log Likelihood After E-Step Iter 9 : -554.361\n",
      "\n",
      "Bound After E-Step Iter 9 : -554.361\n",
      "\n"
     ]
    },
    {
     "name": "stderr",
     "output_type": "stream",
     "text": [
      "/var/folders/l2/gqnx870j10s9yq3h98czyx8h0000gn/T/ipykernel_25999/2394251062.py:35: DeprecationWarning: np.asscalar(a) is deprecated since NumPy v1.16, use a.item() instead\n",
      "  return  np.asscalar(np.array(logLike))\n",
      "/var/folders/l2/gqnx870j10s9yq3h98czyx8h0000gn/T/ipykernel_25999/3985183117.py:38: DeprecationWarning: np.asscalar(a) is deprecated since NumPy v1.16, use a.item() instead\n",
      "  return np.asscalar(np.array(bound))\n"
     ]
    },
    {
     "name": "stdout",
     "output_type": "stream",
     "text": [
      "Log Likelihood After M-Step Iter 9 : -552.338\n",
      "\n",
      "Bound After M-Step Iter 9 : -553.319\n",
      "\n",
      "Log Likelihood After E-Step Iter 10 : -552.338\n",
      "\n",
      "Bound After E-Step Iter 10 : -552.338\n",
      "\n"
     ]
    },
    {
     "name": "stderr",
     "output_type": "stream",
     "text": [
      "/var/folders/l2/gqnx870j10s9yq3h98czyx8h0000gn/T/ipykernel_25999/2394251062.py:35: DeprecationWarning: np.asscalar(a) is deprecated since NumPy v1.16, use a.item() instead\n",
      "  return  np.asscalar(np.array(logLike))\n",
      "/var/folders/l2/gqnx870j10s9yq3h98czyx8h0000gn/T/ipykernel_25999/3985183117.py:38: DeprecationWarning: np.asscalar(a) is deprecated since NumPy v1.16, use a.item() instead\n",
      "  return np.asscalar(np.array(bound))\n"
     ]
    },
    {
     "name": "stdout",
     "output_type": "stream",
     "text": [
      "Log Likelihood After M-Step Iter 10 : -550.320\n",
      "\n",
      "Bound After M-Step Iter 10 : -551.298\n",
      "\n",
      "Log Likelihood After E-Step Iter 11 : -550.320\n",
      "\n",
      "Bound After E-Step Iter 11 : -550.320\n",
      "\n"
     ]
    },
    {
     "name": "stderr",
     "output_type": "stream",
     "text": [
      "/var/folders/l2/gqnx870j10s9yq3h98czyx8h0000gn/T/ipykernel_25999/2394251062.py:35: DeprecationWarning: np.asscalar(a) is deprecated since NumPy v1.16, use a.item() instead\n",
      "  return  np.asscalar(np.array(logLike))\n",
      "/var/folders/l2/gqnx870j10s9yq3h98czyx8h0000gn/T/ipykernel_25999/3985183117.py:38: DeprecationWarning: np.asscalar(a) is deprecated since NumPy v1.16, use a.item() instead\n",
      "  return np.asscalar(np.array(bound))\n"
     ]
    },
    {
     "name": "stdout",
     "output_type": "stream",
     "text": [
      "Log Likelihood After M-Step Iter 11 : -548.372\n",
      "\n",
      "Bound After M-Step Iter 11 : -549.304\n",
      "\n",
      "Log Likelihood After E-Step Iter 12 : -548.372\n",
      "\n",
      "Bound After E-Step Iter 12 : -548.372\n",
      "\n"
     ]
    },
    {
     "name": "stderr",
     "output_type": "stream",
     "text": [
      "/var/folders/l2/gqnx870j10s9yq3h98czyx8h0000gn/T/ipykernel_25999/2394251062.py:35: DeprecationWarning: np.asscalar(a) is deprecated since NumPy v1.16, use a.item() instead\n",
      "  return  np.asscalar(np.array(logLike))\n",
      "/var/folders/l2/gqnx870j10s9yq3h98czyx8h0000gn/T/ipykernel_25999/3985183117.py:38: DeprecationWarning: np.asscalar(a) is deprecated since NumPy v1.16, use a.item() instead\n",
      "  return np.asscalar(np.array(bound))\n"
     ]
    },
    {
     "name": "stdout",
     "output_type": "stream",
     "text": [
      "Log Likelihood After M-Step Iter 12 : -546.614\n",
      "\n",
      "Bound After M-Step Iter 12 : -547.439\n",
      "\n",
      "Log Likelihood After E-Step Iter 13 : -546.614\n",
      "\n",
      "Bound After E-Step Iter 13 : -546.614\n",
      "\n"
     ]
    },
    {
     "name": "stderr",
     "output_type": "stream",
     "text": [
      "/var/folders/l2/gqnx870j10s9yq3h98czyx8h0000gn/T/ipykernel_25999/2394251062.py:35: DeprecationWarning: np.asscalar(a) is deprecated since NumPy v1.16, use a.item() instead\n",
      "  return  np.asscalar(np.array(logLike))\n",
      "/var/folders/l2/gqnx870j10s9yq3h98czyx8h0000gn/T/ipykernel_25999/3985183117.py:38: DeprecationWarning: np.asscalar(a) is deprecated since NumPy v1.16, use a.item() instead\n",
      "  return np.asscalar(np.array(bound))\n"
     ]
    },
    {
     "name": "stdout",
     "output_type": "stream",
     "text": [
      "Log Likelihood After M-Step Iter 13 : -545.157\n",
      "\n",
      "Bound After M-Step Iter 13 : -545.826\n",
      "\n",
      "Log Likelihood After E-Step Iter 14 : -545.157\n",
      "\n",
      "Bound After E-Step Iter 14 : -545.157\n",
      "\n"
     ]
    },
    {
     "name": "stderr",
     "output_type": "stream",
     "text": [
      "/var/folders/l2/gqnx870j10s9yq3h98czyx8h0000gn/T/ipykernel_25999/2394251062.py:35: DeprecationWarning: np.asscalar(a) is deprecated since NumPy v1.16, use a.item() instead\n",
      "  return  np.asscalar(np.array(logLike))\n",
      "/var/folders/l2/gqnx870j10s9yq3h98czyx8h0000gn/T/ipykernel_25999/3985183117.py:38: DeprecationWarning: np.asscalar(a) is deprecated since NumPy v1.16, use a.item() instead\n",
      "  return np.asscalar(np.array(bound))\n"
     ]
    },
    {
     "name": "stdout",
     "output_type": "stream",
     "text": [
      "Log Likelihood After M-Step Iter 14 : -544.054\n",
      "\n",
      "Bound After M-Step Iter 14 : -544.551\n",
      "\n",
      "Log Likelihood After E-Step Iter 15 : -544.054\n",
      "\n",
      "Bound After E-Step Iter 15 : -544.054\n",
      "\n"
     ]
    },
    {
     "name": "stderr",
     "output_type": "stream",
     "text": [
      "/var/folders/l2/gqnx870j10s9yq3h98czyx8h0000gn/T/ipykernel_25999/2394251062.py:35: DeprecationWarning: np.asscalar(a) is deprecated since NumPy v1.16, use a.item() instead\n",
      "  return  np.asscalar(np.array(logLike))\n",
      "/var/folders/l2/gqnx870j10s9yq3h98czyx8h0000gn/T/ipykernel_25999/3985183117.py:38: DeprecationWarning: np.asscalar(a) is deprecated since NumPy v1.16, use a.item() instead\n",
      "  return np.asscalar(np.array(bound))\n"
     ]
    },
    {
     "name": "stdout",
     "output_type": "stream",
     "text": [
      "Log Likelihood After M-Step Iter 15 : -543.287\n",
      "\n",
      "Bound After M-Step Iter 15 : -543.627\n",
      "\n",
      "Log Likelihood After E-Step Iter 16 : -543.287\n",
      "\n",
      "Bound After E-Step Iter 16 : -543.287\n",
      "\n"
     ]
    },
    {
     "name": "stderr",
     "output_type": "stream",
     "text": [
      "/var/folders/l2/gqnx870j10s9yq3h98czyx8h0000gn/T/ipykernel_25999/2394251062.py:35: DeprecationWarning: np.asscalar(a) is deprecated since NumPy v1.16, use a.item() instead\n",
      "  return  np.asscalar(np.array(logLike))\n",
      "/var/folders/l2/gqnx870j10s9yq3h98czyx8h0000gn/T/ipykernel_25999/3985183117.py:38: DeprecationWarning: np.asscalar(a) is deprecated since NumPy v1.16, use a.item() instead\n",
      "  return np.asscalar(np.array(bound))\n"
     ]
    },
    {
     "name": "stdout",
     "output_type": "stream",
     "text": [
      "Log Likelihood After M-Step Iter 16 : -542.787\n",
      "\n",
      "Bound After M-Step Iter 16 : -543.006\n",
      "\n",
      "Log Likelihood After E-Step Iter 17 : -542.787\n",
      "\n",
      "Bound After E-Step Iter 17 : -542.787\n",
      "\n"
     ]
    },
    {
     "name": "stderr",
     "output_type": "stream",
     "text": [
      "/var/folders/l2/gqnx870j10s9yq3h98czyx8h0000gn/T/ipykernel_25999/2394251062.py:35: DeprecationWarning: np.asscalar(a) is deprecated since NumPy v1.16, use a.item() instead\n",
      "  return  np.asscalar(np.array(logLike))\n",
      "/var/folders/l2/gqnx870j10s9yq3h98czyx8h0000gn/T/ipykernel_25999/3985183117.py:38: DeprecationWarning: np.asscalar(a) is deprecated since NumPy v1.16, use a.item() instead\n",
      "  return np.asscalar(np.array(bound))\n"
     ]
    },
    {
     "name": "stdout",
     "output_type": "stream",
     "text": [
      "Log Likelihood After M-Step Iter 17 : -542.476\n",
      "\n",
      "Bound After M-Step Iter 17 : -542.611\n",
      "\n",
      "Log Likelihood After E-Step Iter 18 : -542.476\n",
      "\n",
      "Bound After E-Step Iter 18 : -542.476\n",
      "\n"
     ]
    },
    {
     "name": "stderr",
     "output_type": "stream",
     "text": [
      "/var/folders/l2/gqnx870j10s9yq3h98czyx8h0000gn/T/ipykernel_25999/2394251062.py:35: DeprecationWarning: np.asscalar(a) is deprecated since NumPy v1.16, use a.item() instead\n",
      "  return  np.asscalar(np.array(logLike))\n",
      "/var/folders/l2/gqnx870j10s9yq3h98czyx8h0000gn/T/ipykernel_25999/3985183117.py:38: DeprecationWarning: np.asscalar(a) is deprecated since NumPy v1.16, use a.item() instead\n",
      "  return np.asscalar(np.array(bound))\n"
     ]
    },
    {
     "name": "stdout",
     "output_type": "stream",
     "text": [
      "Log Likelihood After M-Step Iter 18 : -542.289\n",
      "\n",
      "Bound After M-Step Iter 18 : -542.369\n",
      "\n",
      "Log Likelihood After E-Step Iter 19 : -542.289\n",
      "\n",
      "Bound After E-Step Iter 19 : -542.289\n",
      "\n",
      "Log Likelihood After M-Step Iter 19 : -542.179\n",
      "\n",
      "Bound After M-Step Iter 19 : -542.226\n",
      "\n"
     ]
    },
    {
     "name": "stderr",
     "output_type": "stream",
     "text": [
      "/var/folders/l2/gqnx870j10s9yq3h98czyx8h0000gn/T/ipykernel_25999/2394251062.py:35: DeprecationWarning: np.asscalar(a) is deprecated since NumPy v1.16, use a.item() instead\n",
      "  return  np.asscalar(np.array(logLike))\n",
      "/var/folders/l2/gqnx870j10s9yq3h98czyx8h0000gn/T/ipykernel_25999/3985183117.py:38: DeprecationWarning: np.asscalar(a) is deprecated since NumPy v1.16, use a.item() instead\n",
      "  return np.asscalar(np.array(bound))\n"
     ]
    },
    {
     "data": {
      "image/png": "[encoded data removed]",
      "text/plain": [
       "<Figure size 432x288 with 1 Axes>"
      ]
     },
     "metadata": {
      "needs_background": "light"
     },
     "output_type": "display_data"
    },
    {
     "data": {
      "image/png": "[encoded data removed]",
      "text/plain": [
       "<Figure size 432x288 with 1 Axes>"
      ]
     },
     "metadata": {
      "needs_background": "light"
     },
     "output_type": "display_data"
    },
    {
     "data": {
      "image/png": "[encoded data removed]",
      "text/plain": [
       "<Figure size 432x288 with 1 Axes>"
      ]
     },
     "metadata": {
      "needs_background": "light"
     },
     "output_type": "display_data"
    }
   ],
   "source": [
    "#generate data from the ground truth mixture of Gaussians we've defined way above. \n",
    "#make sure you've completed this routine above.\n",
    "data = mixGaussGen1d(mixGaussTrue,nData);\n",
    "\n",
    "#draw data, ground truth mixture of Gaussians.\n",
    "drawEMData1d(data,mixGaussTrue)\n",
    "\n",
    "#define number of components to estimate\n",
    "nGaussEst = 2;\n",
    "\n",
    "#fit mixture of Gaussians (Pretend someone handed you some data. Now what?)\n",
    "#Make sure you've completed this routine above.\n",
    "mixGaussEst = fitMixGauss1d(data,nGaussEst);\n",
    "#plt.show()"
   ]
  },
  {
   "cell_type": "markdown",
   "metadata": {},
   "source": [
    "The first and second plots respectively show the ground truth distribution and the EM estimated distribution. \\\n",
    "\"The blue bars are the histogram of the generated points. The green curve is what the complete mixture of gaussians model looks like. The red curves are the component gaussians.\"\n",
    "\n",
    "The E step maximizes bound w.r.t distribution $q(h_i)$ and the M step maximizes the bound w.r.t parameters $\\theta$. Detailed formula comments in the code above. From the third figure, we can see the curves increase and tend to be unchanged. The lower bound line(red) is always lower than the log likelihood line(green) after interations, which shows that EM gets a good estimation of the distribution. "
   ]
  }
 ],
 "metadata": {
  "kernelspec": {
   "display_name": "Python 3 (ipykernel)",
   "language": "python",
   "name": "python3"
  },
  "language_info": {
   "codemirror_mode": {
    "name": "ipython",
    "version": 3
   },
   "file_extension": ".py",
   "mimetype": "text/x-python",
   "name": "python",
   "nbconvert_exporter": "python",
   "pygments_lexer": "ipython3",
   "version": "3.9.7"
  }
 },
 "nbformat": 4,
 "nbformat_minor": 4
}
